{
 "cells": [
  {
   "cell_type": "markdown",
   "id": "d68ec504",
   "metadata": {},
   "source": [
    "### Instructions for Running Grobid Docker\n",
    "\n",
    "Before running this script, make sure you have Grobid running as a Docker container.\n",
    "\n",
    "You can start Grobid using the following command:\n",
    "\n",
    "```docker run --rm -p 8070:8070 lfoppiano/grobid:0.8.0```\n",
    "\n",
    "This exposes the Grobid REST API at `http://localhost:8070`."
   ]
  },
  {
   "cell_type": "code",
   "execution_count": 10,
   "id": "2ce443aa",
   "metadata": {},
   "outputs": [],
   "source": [
    "import os\n",
    "import re\n",
    "\n",
    "import requests\n",
    "from lxml import etree"
   ]
  },
  {
   "cell_type": "code",
   "execution_count": 3,
   "id": "a31c5075",
   "metadata": {},
   "outputs": [],
   "source": [
    "# --- File & Path Helpers ---\n",
    "def ensure_dir_exists(folder):\n",
    "    if not os.path.exists(folder):\n",
    "        os.makedirs(folder)\n",
    "\n",
    "def get_file_path(filename, folder):\n",
    "    return os.path.join(os.getcwd(), folder, filename)"
   ]
  },
  {
   "cell_type": "code",
   "execution_count": 13,
   "id": "6da2dd36",
   "metadata": {},
   "outputs": [],
   "source": [
    "# --- Config & Path ---\n",
    "PDF_FILENAME = \"2021Bouza.pdf\"  # Change this to your target file\n",
    "PROCESSED_DIR = \"data/processed\"\n",
    "BASENAME = os.path.splitext(PDF_FILENAME)[0]\n",
    "PYMUPDF_TXT_PATH = os.path.join(PROCESSED_DIR, f\"{BASENAME}_pymupdf.txt\")"
   ]
  },
  {
   "cell_type": "code",
   "execution_count": 24,
   "id": "bfae6e06",
   "metadata": {},
   "outputs": [],
   "source": [
    "# --- Extraction Logic ---\n",
    "def extract_metadata_from_pymupdf(txt_path):\n",
    "    with open(txt_path, \"r\", encoding=\"utf-8\") as f:\n",
    "        text = f.read()\n",
    "\n",
    "    # Title\n",
    "    title_match = re.search(r\"(?<=\\| )(.*?nm wavelength range)\", text, re.DOTALL)\n",
    "    title = title_match.group(1).strip() if title_match else \"\"\n",
    "\n",
    "    # Abstract\n",
    "    abstract_match = re.search(r\"ABSTRACT\\s*(.*?)\\s*I\\. INTRODUCTION\", text, re.DOTALL)\n",
    "    abstract = abstract_match.group(1).strip() if abstract_match else \"\"\n",
    "\n",
    "    # Authors\n",
    "    authors_match = re.search(r\"wavelength range\\s+(.*?)\\s+AFFILIATIONS\", text, re.DOTALL)\n",
    "    authors = authors_match.group(1).replace('\\n', ' ').strip() if authors_match else \"\"\n",
    "\n",
    "    # Sections\n",
    "    sections = re.findall(r\"\\n([IVX]+\\. [A-Z \\-]+)\\n(.*?)(?=\\n[IVX]+\\. |$)\", text, re.DOTALL)\n",
    "\n",
    "    return title, authors, abstract, sections"
   ]
  },
  {
   "cell_type": "code",
   "execution_count": 25,
   "id": "958c1689",
   "metadata": {},
   "outputs": [],
   "source": [
    "# --- Extraction Logic ---\n",
    "def extract_metadata_from_pymupdf(txt_path):\n",
    "    with open(txt_path, \"r\", encoding=\"utf-8\") as f:\n",
    "        text = f.read()\n",
    "\n",
    "    # Title\n",
    "    title_match = re.search(r\"(?<=\\| )(.*?nm wavelength range)\", text, re.DOTALL)\n",
    "    title = title_match.group(1).strip() if title_match else \"\"\n",
    "\n",
    "    # Abstract\n",
    "    abstract_match = re.search(r\"ABSTRACT\\s*(.*?)\\s*I\\. INTRODUCTION\", text, re.DOTALL)\n",
    "    abstract = abstract_match.group(1).strip() if abstract_match else \"\"\n",
    "\n",
    "    # Authors\n",
    "    authors_match = re.search(r\"wavelength range\\s+(.*?)\\s+AFFILIATIONS\", text, re.DOTALL)\n",
    "    authors = authors_match.group(1).replace('\\n', ' ').strip() if authors_match else \"\"\n",
    "\n",
    "    # Sections\n",
    "    sections = re.findall(r\"\\n([IVX]+\\. [A-Z \\-]+)\\n(.*?)(?=\\n[IVX]+\\. |$)\", text, re.DOTALL)\n",
    "\n",
    "    return title, authors, abstract, sections"
   ]
  },
  {
   "cell_type": "code",
   "execution_count": 26,
   "id": "e44c9c4f",
   "metadata": {},
   "outputs": [
    {
     "name": "stdout",
     "output_type": "stream",
     "text": [
      "Title: DECEMBER 02 2021\n",
      "The spectrum of a 1-μm-wavelength-driven tin microdroplet\n",
      "laser-produced plasma source in the 5.5–265.5 nm\n",
      "wavelength range\n",
      "Z. Bouza \n",
      " ; J. Byers \n",
      " ; J. Scheers \n",
      " ; R. Schupp \n",
      " ; Y. Mostafa; L. Behnke; Z. Mazzotta \n",
      " ; J. Sheil \n",
      " ;\n",
      "W. Ubachs \n",
      " ; R. Hoekstra \n",
      " ; M. Bayraktar \n",
      " ; O. O. Versolato  \n",
      "AIP Advances 11, 125003 (2021)\n",
      "https://doi.org/10.1063/5.0073839\n",
      "Articles You May Be Interested In\n",
      "Radiation transport and scaling of optical depth in Nd:YAG laser-produced microdroplet-tin plasma\n",
      "Appl. Phys. Lett. (September 2019)\n",
      "Production of 13.5 nm light with 5% conversion efficiency from 2 μ m laser-driven tin microdroplet plasma\n",
      "Appl. Phys. Lett. (December 2023)\n",
      "Laser-induced vaporization of a stretching sheet of liquid tin\n",
      "J. Appl. Phys. (February 2021)\n",
      " 05 July 2025 13:58:50\n",
      "\n",
      "\n",
      "--- Page 2 ---\n",
      "\n",
      "AIP Advances\n",
      "ARTICLE\n",
      "scitation.org/journal/adv\n",
      "The spectrum of a 1-μm-wavelength-driven tin\n",
      "microdroplet laser-produced plasma source\n",
      "in the 5.5–265.5 nm wavelength range\n",
      "Authors: Z. Bouza   ; J. Byers   ; J. Scheers   ; R. Schupp   ; Y. Mostafa; L. Behnke; Z. Mazzotta   ; J. Sheil   ; W. Ubachs   ; R. Hoekstra   ; M. Bayraktar   ; O. O. Versolato   AIP Advances 11, 125003 (2021) https://doi.org/10.1063/5.0073839 Articles You May Be Interested In Radiation transport and scaling of optical depth in Nd:YAG laser-produced microdroplet-tin plasma Appl. Phys. Lett. (September 2019) Production of 13.5 nm light with 5% conversion efficiency from 2 μ m laser-driven tin microdroplet plasma Appl. Phys. Lett. (December 2023) Laser-induced vaporization of a stretching sheet of liquid tin J. Appl. Phys. (February 2021)  05 July 2025 13:58:50   --- Page 2 ---  AIP Advances ARTICLE scitation.org/journal/adv The spectrum of a 1-μm-wavelength-driven tin microdroplet laser-produced plasma source in the 5.5–265.5 nm wavelength range Cite as: AIP Advances 11, 125003 (2021); doi: 10.1063/5.0073839 Submitted: 4 October 2021 • Accepted: 5 November 2021 • Published Online: 2 December 2021 Z. Bouza,1 J. Byers,2 J. Scheers,1,3 R. Schupp,1 Y. Mostafa,1 L. Behnke,1 Z. Mazzotta,1 J. Sheil,1 W. Ubachs,1,3 R. Hoekstra,1,4 M. Bayraktar,2 and O. O. Versolato1,3a)\n",
      "Abstract: We present a calibrated spectrum in the 5.5–265.5 nm range from a microdroplet-tin Nd:YAG-laser-produced plasma under conditions\n",
      "relevant for the production of extreme ultraviolet (EUV) light at 13.5 nm for nanolithography. The plasma emission spectrum obtained\n",
      "using a custom-built transmission grating spectrometer results from a careful calibration of a series of filters enabling measurements free\n",
      "of any higher diffraction orders. Specifically, Zr, Si, and Al thin-foil filters and bulk LiF, MgF2, and UV fused silica filters are employed. A\n",
      "further filter using four SiC mirrors is used to record the otherwise inaccessible 40–100 nm range. The resulting corrected and concatenated\n",
      "spectra are shown to accurately match in their respective overlap regions. The possibility to measure spectra over this broad range enables\n",
      "the optimization of current and future sources of EUV light for nanolithography by providing the diagnostics required for minimizing the\n",
      "emission of unwanted wavelength bands.\n",
      "© 2021 Author(s). All article content, except where otherwise noted, is licensed under a Creative Commons Attribution (CC BY) license\n",
      "(http://creativecommons.org/licenses/by/4.0/). https://doi.org/10.1063/5.0073839\n",
      "Sections:\n",
      "\n",
      "I. INTRODUCTION\n",
      "Laser-produced plasma (LPP) generated from liquid tin (Sn)\n",
      "microdroplets provides extreme ultraviolet (EUV) light for mod-\n",
      "ern nanolithography,1–7 enabling the continued reduction of feature\n",
      "sizes on affordable integrated circuits (ICs). Such laser-produced\n",
      "plasmas of tin are characterized by a stro ...\n",
      "\n",
      "II. EXPERIMENTAL SETUP\n",
      "In our experiments, molten tin microdroplets of 46 μm dia-\n",
      "meter\n",
      "are\n",
      "first\n",
      "irradiated\n",
      "by\n",
      "a\n",
      "relatively\n",
      "low\n",
      "intensity\n",
      "(∼109 W/cm2), 1-μm-wavelength pre-pulse (PP) from an Nd:YAG\n",
      "laser.46 The microdroplets are dispensed from a droplet generator\n",
      "inside a vacuum vessel with a background pressure of ∼10−6 ...\n",
      "\n",
      "III. RESULTS\n",
      "In this section, three necessary types of corrections are applied\n",
      "to the raw spectra, namely, the (A) filter transmission, (B) grating\n",
      "diffraction efficiency, and (C) CCD response.\n",
      "A. Filter transmission\n",
      "Spectra were recorded in the 5.5–265.5 nm-wavelength region\n",
      "using different filters. The advanta ...\n",
      "\n",
      "IV. CONCLUSIONS\n",
      "We present a fully calibrated spectrum in the 5.5–265.5 nm\n",
      "range from a microdroplet-tin Nd:YAG-laser-produced plasma. The\n",
      "spectrum obtained using a transmission grating spectrometer is the\n",
      "result of a careful calibration of a series of filters enabling measure-\n",
      "ments free of any higher diffraction  ...\n"
     ]
    }
   ],
   "source": [
    "# --- Run Extraction ---\n",
    "title, authors, abstract, sections = extract_metadata_from_pymupdf(PYMUPDF_TXT_PATH)\n",
    "\n",
    "# --- Output ---\n",
    "print(\"Title:\", title)\n",
    "print(\"Authors:\", authors)\n",
    "print(\"Abstract:\", abstract)\n",
    "print(\"Sections:\")\n",
    "for heading, content in sections:\n",
    "    print(f\"\\n{heading.strip()}\")\n",
    "    print(content.strip()[:300], \"...\")"
   ]
  },
  {
   "cell_type": "code",
   "execution_count": 27,
   "id": "bdecc048",
   "metadata": {},
   "outputs": [
    {
     "name": "stdout",
     "output_type": "stream",
     "text": [
      "Title: DECEMBER 02 2021\n",
      "The spectrum of a 1-μm-wavelength-driven tin microdroplet\n",
      "laser-produced plasma source in the 5.5–265.5 nm\n",
      "wavelength range\n",
      "Z. Bouza \n",
      " ; J. Byers \n",
      " ; J. Scheers \n",
      " ; R. Schupp \n",
      " ; Y. Mostafa; L. Behnke; Z. Mazzotta \n",
      " ; J. Sheil \n",
      " ;\n",
      "W. Ubachs \n",
      " ; R. Hoekstra \n",
      " ; M. Bayraktar \n",
      " ; O. O. Versolato  \n",
      "AIP Advances 11, 125003 (2021)\n",
      "https://doi.org/10.1063/5.0073839\n",
      "Articles You May Be Interested In\n",
      "Radiation transport and scaling of optical depth in Nd:YAG laser-produced microdroplet-tin plasma\n",
      "Appl. Phys. Lett. (September 2019)\n",
      "Production of 13.5 nm light with 5% conversion efficiency from 2 μ m laser-driven tin microdroplet plasma\n",
      "Appl. Phys. Lett. (December 2023)\n",
      "Laser-induced vaporization of a stretching sheet of liquid tin\n",
      "J. Appl. Phys. (February 2021)\n",
      " 05 July 2025 13:58:50\n",
      "\n",
      "\n",
      "--- Page 2 ---\n",
      "\n",
      "AIP Advances\n",
      "ARTICLE\n",
      "scitation.org/journal/adv\n",
      "The spectrum of a 1-μm-wavelength-driven tin\n",
      "microdroplet laser-produced plasma source\n",
      "in the 5.5–265.5 nm wavelength range\n",
      "Authors: Z. Bouza   ; J. Byers   ; J. Scheers   ; R. Schupp   ; Y. Mostafa; L. Behnke; Z. Mazzotta   ; J. Sheil   ; W. Ubachs   ; R. Hoekstra   ; M. Bayraktar   ; O. O. Versolato   AIP Advances 11, 125003 (2021) https://doi.org/10.1063/5.0073839 Articles You May Be Interested In Radiation transport and scaling of optical depth in Nd:YAG laser-produced microdroplet-tin plasma Appl. Phys. Lett. (September 2019) Production of 13.5 nm light with 5% conversion efficiency from 2 μ m laser-driven tin microdroplet plasma Appl. Phys. Lett. (December 2023) Laser-induced vaporization of a stretching sheet of liquid tin J. Appl. Phys. (February 2021)  05 July 2025 13:58:50   --- Page 2 ---  AIP Advances ARTICLE scitation.org/journal/adv The spectrum of a 1-μm-wavelength-driven tin microdroplet laser-produced plasma source in the 5.5–265.5 nm wavelength range Cite as: AIP Advances 11, 125003 (2021); doi: 10.1063/5.0073839 Submitted: 4 October 2021 • Accepted: 5 November 2021 • Published Online: 2 December 2021 Z. Bouza,1 J. Byers,2 J. Scheers,1,3 R. Schupp,1 Y. Mostafa,1 L. Behnke,1 Z. Mazzotta,1 J. Sheil,1 W. Ubachs,1,3 R. Hoekstra,1,4 M. Bayraktar,2 and O. O. Versolato1,3a)\n",
      "Abstract: We present a calibrated spectrum in the 5.5–265.5 nm range from a microdroplet-tin Nd:YAG-laser-produced plasma under conditions\n",
      "relevant for the production of extreme ultraviolet (EUV) light at 13.5 nm for nanolithography. The plasma emission spectrum obtained\n",
      "using a custom-built transmission grating spectrometer results from a careful calibration of a series of filters enabling measurements free\n",
      "of any higher diffraction orders. Specifically, Zr, Si, and Al thin-foil filters and bulk LiF, MgF2, and UV fused silica filters are employed. A\n",
      "further filter using four SiC mirrors is used to record the otherwise inaccessible 40–100 nm range. The resulting corrected and concatenated\n",
      "spectra are shown to accurately match in their respective overlap regions. The possibility to measure spectra over this broad range enables\n",
      "the optimization of current and future sources of EUV light for nanolithography by providing the diagnostics required for minimizing the\n",
      "emission of unwanted wavelength bands.\n",
      "© 2021 Author(s). All article content, except where otherwise noted, is licensed under a Creative Commons Attribution (CC BY) license\n",
      "(http://creativecommons.org/licenses/by/4.0/). https://doi.org/10.1063/5.0073839\n",
      "Sections:\n",
      "\n",
      "I. INTRODUCTION\n",
      "Laser-produced plasma (LPP) generated from liquid tin (Sn)\n",
      "microdroplets provides extreme ultraviolet (EUV) light for mod-\n",
      "ern nanolithography,1–7 enabling the continued reduction of feature\n",
      "sizes on affordable integrated circuits (ICs). Such laser-produced\n",
      "plasmas of tin are characterized by a stro ...\n",
      "\n",
      "II. EXPERIMENTAL SETUP\n",
      "In our experiments, molten tin microdroplets of 46 μm dia-\n",
      "meter\n",
      "are\n",
      "first\n",
      "irradiated\n",
      "by\n",
      "a\n",
      "relatively\n",
      "low\n",
      "intensity\n",
      "(∼109 W/cm2), 1-μm-wavelength pre-pulse (PP) from an Nd:YAG\n",
      "laser.46 The microdroplets are dispensed from a droplet generator\n",
      "inside a vacuum vessel with a background pressure of ∼10−6 ...\n",
      "\n",
      "III. RESULTS\n",
      "In this section, three necessary types of corrections are applied\n",
      "to the raw spectra, namely, the (A) filter transmission, (B) grating\n",
      "diffraction efficiency, and (C) CCD response.\n",
      "A. Filter transmission\n",
      "Spectra were recorded in the 5.5–265.5 nm-wavelength region\n",
      "using different filters. The advanta ...\n",
      "\n",
      "IV. CONCLUSIONS\n",
      "We present a fully calibrated spectrum in the 5.5–265.5 nm\n",
      "range from a microdroplet-tin Nd:YAG-laser-produced plasma. The\n",
      "spectrum obtained using a transmission grating spectrometer is the\n",
      "result of a careful calibration of a series of filters enabling measure-\n",
      "ments free of any higher diffraction  ...\n"
     ]
    }
   ],
   "source": [
    "# --- Output ---\n",
    "print(\"Title:\", title)\n",
    "print(\"Authors:\", authors)\n",
    "print(\"Abstract:\", abstract)\n",
    "print(\"Sections:\")\n",
    "for heading, content in sections:\n",
    "    print(f\"\\n{heading.strip()}\")\n",
    "    print(content.strip()[:300], \"...\")"
   ]
  },
  {
   "cell_type": "code",
   "execution_count": 28,
   "id": "4d65f119",
   "metadata": {},
   "outputs": [
    {
     "data": {
      "text/plain": [
       "'DECEMBER 02 2021\\nThe spectrum of a 1-μm-wavelength-driven tin microdroplet\\nlaser-produced plasma source in the 5.5–265.5 nm\\nwavelength range\\nZ. Bouza \\n ; J. Byers \\n ; J. Scheers \\n ; R. Schupp \\n ; Y. Mostafa; L. Behnke; Z. Mazzotta \\n ; J. Sheil \\n ;\\nW. Ubachs \\n ; R. Hoekstra \\n ; M. Bayraktar \\n ; O. O. Versolato \\ue923 \\nAIP Advances 11, 125003 (2021)\\nhttps://doi.org/10.1063/5.0073839\\nArticles You May Be Interested In\\nRadiation transport and scaling of optical depth in Nd:YAG laser-produced microdroplet-tin plasma\\nAppl. Phys. Lett. (September 2019)\\nProduction of 13.5\\u2009nm light with 5% conversion efficiency from 2 μ m laser-driven tin microdroplet plasma\\nAppl. Phys. Lett. (December 2023)\\nLaser-induced vaporization of a stretching sheet of liquid tin\\nJ. Appl. Phys. (February 2021)\\n 05 July 2025 13:58:50\\n\\n\\n--- Page 2 ---\\n\\nAIP Advances\\nARTICLE\\nscitation.org/journal/adv\\nThe spectrum of a 1-μm-wavelength-driven tin\\nmicrodroplet laser-produced plasma source\\nin the 5.5–265.5 nm wavelength range'"
      ]
     },
     "execution_count": 28,
     "metadata": {},
     "output_type": "execute_result"
    }
   ],
   "source": [
    "title"
   ]
  },
  {
   "cell_type": "code",
   "execution_count": 29,
   "id": "2a252c35",
   "metadata": {},
   "outputs": [
    {
     "data": {
      "text/plain": [
       "[('I. INTRODUCTION',\n",
       "  'Laser-produced plasma (LPP) generated from liquid tin (Sn)\\nmicrodroplets provides extreme ultraviolet (EUV) light for mod-\\nern nanolithography,1–7 enabling the continued reduction of feature\\nsizes on affordable integrated circuits (ICs). Such laser-produced\\nplasmas of tin are characterized by a strong emission peak near\\n13.5 nm, originating from transitions between complex excited\\nstates in multiply charged Sn10+–Sn15+ ions.8–17\\nMultilayer optics are used in industrial lithography machines\\nto collect the EUV light from its source and to provide an image\\nof the so-called mask onto the wafer. These optics are designed to\\nreflect wavelengths in a 2%-wavelength bandwidth centered around\\n13.5 nm (the bandwidth limitation is, in part, due to the many ∼10\\nrequired reflective surfaces).18,19 As such, most spectroscopic works\\non Sn LPPs have focused on the “in-band” wavelength region17,20–24\\nor on nearby out-of-band (OOB) EUV emission features,14,23,25–31\\nspectral regions of which may help diagnose the plasma in terms\\nof its main in-band emitters’ charge states or temperature. Little\\nspectroscopic information is available for longer vacuum (VUV)-\\nand deep-ultraviolet (DUV) wavelengths, in particular, in terms of\\nrelative (or absolute) emission intensities. Available spectra in the lit-\\nerature show either vacuum- or deep-ultraviolet spectra without the\\nEUV region around 13.5 nm,32–36 or if the EUV region is presented,\\nthe spectral range between EUV and DUV is not shown.37–42\\nVUV/DUV emission may be transported through the multi-\\nlayer optics systems and expose the wafer. Given the significant pho-\\nton energy, this exposure may influence the chemical processes on\\nthe wafer and negatively impact imaging contrast and quality.43,44 As\\nsuch, it is of significant interest to understand in detail the spectrum\\nAIP Advances 11, 125003 (2021); doi: 10.1063/5.0073839\\n11, 125003-1\\n© Author(s) 2021\\n 05 July 2025 13:58:50\\n\\n\\n--- Page 3 ---\\n\\nAIP Advances\\nARTICLE\\nscitation.org/journal/adv\\nof EUV generating LPPs in terms of their absolute emission inten-\\nsity. This will enable identifying the origins of many yet-unknown\\nemission features and enable the development of mitigation strate-\\ngies, i.e., minimize the OOB emission. In particular, the wavelength\\nrange of 30–90 nm is important for EUV lithography due to the\\nstrong absorption by hydrogen, which is present as a buffer gas in\\nthe EUV source chambers. Photoionization of hydrogen molecules\\nby DUV radiation generates plasmas in the scanner that can degrade\\nimportant optical components.45 It is challenging to obtain the\\nsource spectrum in this wavelength range due to strong contribu-\\ntions from higher diffraction orders of the very strong emission\\nfeature centered around 13.5 nm.\\nWe present an intensity-calibrated spectrum of a droplet-based\\ntin plasma driven by 1-μm laser light in the wavelength range\\nbetween 5.5 and 265.5 nm. A custom-built transmission grating\\nspectrometer (TGS) is used to record the spectrum using a 1000 lines\\nper mm grating. Higher diffraction orders, which would otherwise\\nrender impossible the detection of longer wavelengths, are elimi-\\nnated by using Zr, Si, Al, LiF, MgF2, and UV fused silica (UVFS)\\nfilters. An additional novel filter using four SiC mirrors is used to\\nrecord the 40–100 nm region, which would, given the dominant con-\\ntribution from the higher diffraction orders of the EUV band if unfil-\\ntered, otherwise remain inaccessible. Careful calibration of these fil-\\nters and the transmission grating combined with the response of the\\ncamera enables the absolute calibration of the full operating band\\nand obtaining a spectrum free of any higher diffraction orders.'),\n",
       " ('II. EXPERIMENTAL SETUP',\n",
       "  'In our experiments, molten tin microdroplets of 46 μm dia-\\nmeter\\nare\\nfirst\\nirradiated\\nby\\na\\nrelatively\\nlow\\nintensity\\n(∼109 W/cm2), 1-μm-wavelength pre-pulse (PP) from an Nd:YAG\\nlaser.46 The microdroplets are dispensed from a droplet generator\\ninside a vacuum vessel with a background pressure of ∼10−6 mbar.\\nThe beam profile of the PP laser is Gaussian with a spatial full width\\nat half maximum (FWHM) of 97 μm. The temporal profile is a\\nGaussian with a FWHM of 29 ns. For the presented experiments, a\\nconstant PP energy of 6.8 mJ was used. The PP deforms the droplets\\ninto thin sheet targets, which are radially symmetric and thickest in\\ntheir center.47–51 The target diameter is controlled via a time delay\\nbetween the pre- and main pulses (MPs), and for our experiments,\\nthe time delay is set to 2000 ns, leading to a target diameter of\\n∼320 μm.\\nAfter the PP, the targets are irradiated with a high-intensity\\n1-μm-wavelength main pulse (MP) from a Nd:YAG laser. The pulse\\nduration of the MP is 10 ns, and the focal spot has a Gaussian beam\\nprofile with a FWHM of 103 μm. For the presented experiments,\\na fixed laser intensity of 2.3 × 1011 W/cm2 was employed using a\\npulse energy of 293 mJ. The intensity was calculated as described in\\nRef. 27. Additional details regarding the droplet-based experimen-\\ntal setup can be found in Ref. 47. Finally, a simplified scheme of the\\nexperimental setup is presented in Fig. 1.\\nThe spectral emission from the Sn laser-produced plasma is\\nrecorded using a broadband transmission grating spectrometer52,53\\nplaced under an angle of 60○with respect to the incoming laser\\nlight. The different elements in the TGS are shown schematically in\\nFig. 1. The spectrometer is operated with a slit width of 50 μm and a\\n1000 lines/mm transmission grating, achieving a FWHM instrument\\nFIG. 1. Experimental setup showing the front- and side-view shadowgraphs of the\\ntin targets used for plasma generation as recorded by two cameras. The upper\\nboxed figure is a schematic of the transmission grating spectrometer.\\nresolution of 0.8 nm at 13.5 nm.52 The use of the 1000 lines/mm\\ntransmission grating allows one to record emission in the 5.5–265.5\\nnm-wavelength region. The limits to this specific 5.5–265.5 nm\\nrange are set on the short wavelength side by the onset (>5.5 nm)\\nof the availability of calibration data for the diffraction grating (see\\nSec. III B). On the long wavelength side, the limit (<265.5 nm) is due\\nto the geometry of the spectrometer. Furthermore, the spectrome-\\nter contains Zr, Si, Al, LiF, MgF2, and UVFS filters and SiC mirrors\\nas tabulated in Table I. The Zr, Si, and Al filters are foil filters with\\na common thickness of 200 nm. The foils are supported with a Ni\\nmesh with 10 lines/in. period. The SiC system comprises four bulk-\\nSiC mirrors placed under an angle of 45○with respect to the optical\\naxis (see Fig. 1). The transmission grating, the Zr, Si, and Al filters,\\nand the SiC mirrors are calibrated at the beamline facilities of the\\nPhysikalisch-Technische Bundesanstalt (PTB), at the BESSY-II syn-\\nchrotron, Berlin, limited to wavelengths >5.5 nm. The LiF, MgF2 and\\nUVFS filters are calibrated for wavelengths down to 115 nm using a\\nvacuum-ultraviolet spectrograph equipped with a deuterium lamp.\\nThe diffracted light in the TGS is recorded on a back-\\nilluminated charge-coupled device (CCD) from greateyes GmbH\\n(GE2048 512BI UV1). The CCD is cooled to −30 ○C to reduce\\nthermal noise. Background images are then subtracted from the\\nrecorded spectra to eliminate the dark counts and read-out noise.\\nThe resulting CCD images are cropped and corrected for shear and\\nTABLE I. Filters used in the spectral measurements with the transmission grating\\nspectrometer. All short wavelength cutoffs are specified at 50% of the maximum\\ntransmission shown in Figs. 2–4.\\nFilter material\\nFilter type\\nThickness\\nShort wavelength\\ncutoff (nm)\\nZr\\nFoil\\n200 nm\\n6.1\\nSi\\nFoil\\n200 nm\\n12.5\\nAl\\nFoil\\n200 nm\\n17\\nSiC\\nMirrors\\n1 mm\\n55\\nLiF\\nWindow\\n2 mm\\n129\\nMgF2\\nWindow\\n2 mm\\n<115a\\nUVFS\\nWindow\\n2 mm\\n165\\naAt 115 nm, the transmission is ∼53% of the maximum.\\nAIP Advances 11, 125003 (2021); doi: 10.1063/5.0073839\\n11, 125003-2\\n© Author(s) 2021\\n 05 July 2025 13:58:50\\n\\n\\n--- Page 4 ---\\n\\nAIP Advances\\nARTICLE\\nscitation.org/journal/adv\\ntilt that may be introduced by a misalignment of the slit and the grat-\\ning with respect to the CCD pixel array. Next, the pixel counts are\\naveraged along the non-dispersive axis and corrected for the respec-\\ntive exposure times. The resulting spectra are then corrected for filter\\nefficiency, the first-order diffraction efficiency of the grating, the\\ncamera response, and the solid angle of the spectrometer. The spec-\\ntrometer has a solid angle of 37 × 10−11 sr that is calculated using the\\nslit width, pixel size, and distance to the plasma.\\nFor the wavelength calibration, a measurement with the Al filter\\nis used. The sharp filter edge at 17.056 nm54 and its higher orders\\nenable accurate calibration of the wavelength axis. Here, the higher\\ndiffraction orders are advantageous for wavelength calibration.'),\n",
       " ('III. RESULTS',\n",
       "  'In this section, three necessary types of corrections are applied\\nto the raw spectra, namely, the (A) filter transmission, (B) grating\\ndiffraction efficiency, and (C) CCD response.\\nA. Filter transmission\\nSpectra were recorded in the 5.5–265.5 nm-wavelength region\\nusing different filters. The advantage of capturing spectra using\\ndifferent filters is that each filter allows for the measurement of\\ndifferent wavelength regions clear from higher-order contributions.\\nIn the following, we sub-divide our discussion of the 5.5–265.5 nm\\nspectra into three regions: (1) 5.5–40 nm, (2) 40–115 nm, and (3)\\n115–265.5 nm, and we discuss each region individually.\\n1. 5.5–40 nm wavelength range\\nFor the investigation of the 5.5–40 nm wavelength range, we\\nrecorded four sets of spectra using (i) no filter and the filters (ii) Zr,\\n(iii) Si, and (iv) Al. The measured spectra are presented in Fig. 2(a).\\nThe Zr filter has a cutoff at ∼6.1 nm that allows for recording\\na higher-order-free tin LPP spectrum in the ∼6.1 to 12.2 nm region.\\nThe Si filter exhibits a cutoff at ∼12.5 nm, so in that way, the spec-\\ntrum is pure in the range of ∼12.5 to 25 nm. The Al filter has the\\nadvantage of a longer wavelength cutoff at ∼17 nm such that all\\norders of the strong 13.5 nm emission feature are absent and a clean\\nmeasurement in the range ∼17 to 34 nm is possible.\\nThe transmission functions of the various filters are tabulated\\nin the CXRO database;54 however, such transmission data are only\\nvalid for pristine samples. These filters typically suffer from oxida-\\ntion and are subject to contamination from hydrocarbons and tin\\ndeposition. To obtain reliable transmission functions, the filters are\\ncalibrated at the PTB in Berlin. The calibration results are shown\\nin Figs. 2(b)–2(d). The calibration procedure comprises two steps.\\nFirst, for each filter type, the entire filter area was sampled at a sin-\\ngle wavelength (13.5 nm for the Al filter and 17.5 nm for the Si and\\nZr filters) using a 0.5 × 0.5 mm2 beam, enabling one to obtain a\\ndetailed “map” of the transmission. Second, at one particular posi-\\ntion on the filter (indicated by red squares in the inset figures), the\\nfull wavelength range is measured. The recorded transmission func-\\ntion was subsequently scaled by a factor proportional to the average\\ntransmission at the wavelength of the first measurement step (within\\nthe filter window indicated by the black circle in the inset figures).\\nThe error bars on this scaled transmission curve [red data points in\\nFigs. 2(b)–2(d)] represent one standard deviation from the average\\nacross the filter.\\nFIG. 2. (a) Raw emission spectra obtained from tin LPP using Zr, Si, and Al fil-\\nters, and using no filter. ADU: arithmetic digital unit. Filter transmissions for (b) Zr,\\n(c) Si, and (d) Al filters. The experimental ratio is the result of the division of the\\nrespective filtered by the unfiltered spectra, the calibration is from PTB, and the\\nfitted curve is obtained taking oxidation into account, while the nominal one is\\nthe transmission obtained CXRO. Insets: transmission maps measured at 13.5 nm\\nfor Zr and Si and at 17.5 nm for Al. Red squares depict the location of the filter used\\nfor the wavelength scan. (e) Spectra corrected for the respective filter transmission\\nfunctions.\\nAIP Advances 11, 125003 (2021); doi: 10.1063/5.0073839\\n11, 125003-3\\n© Author(s) 2021\\n 05 July 2025 13:58:50\\n\\n\\n--- Page 5 ---\\n\\nAIP Advances\\nARTICLE\\nscitation.org/journal/adv\\nSuperimposed in black in the same figures are experimental\\nestimates of the transmission function. These estimates are obtained\\nby dividing the respective filtered spectra by the unfiltered spectra.\\nThese ratios may serve only as estimates as they are influenced by\\nhigher diffraction orders.\\nIn all cases, the filter transmission is significantly lower than\\ntheoretical transmission that would be obtained from the CXRO\\ndatabase using the nominal thickness (shown as light gray lines).\\nIn an attempt to quantitatively explain the differences between the\\ncalibration and nominal CXRO database entries, we simulate the\\ninfluence of finite oxidation of the filter surfaces using the following\\nequation (Al as an example):\\nT = exp(−nAlμAldAl) × exp(−nAl2O3μAl2O3dAl2O3).\\n(1)\\nThe symbols n, μ, and d represent the number of atoms per unit\\nvolume, atomic photo-absorption cross section, and thickness of the\\nmaterial, respectively. Thin film interference effects are verified to be\\nnegligible. We also accounted for the thickness of the non-oxidized\\npart of the filter, and the fraction of the filter material in the oxide\\nlayer sums up to the nominal thickness. The fraction of the filter\\nmaterial in the oxide layer is calculated by considering the atomic\\nweights of the pure filter material and the oxidized filter material.\\nFor Al, this fraction is calculated as WAl/WAl2O3, where W is the\\natomic/molecular weight. This consideration allows fitting the T(λ)\\nfunction to the PTB measured transmission curve with a single free\\nfit parameter, namely, the thickness of the oxide layer. The fit results\\nshown in Fig. 2 are in good agreement with the calibration data. The\\nobtained oxide thicknesses range from 17 nm in the Al filter case to\\n49 nm in the Zr filter case. We find optimum agreement between\\nthe simulated and experimentally determined calibration curves for\\nthe oxide layer thickness of 49 nm ZrO2 layer (with 169 nm pure Zr\\nremaining), 19 nm SiO2 (192 nm pure Si), and 17 nm Al2O3 (193 nm\\npure Al). The substantial oxide layers (we assume that the oxide layer\\nis divided between front and back sides of the filter) are, in fact,\\nin agreement with the expected oxide layer thickness of such metal\\nfoils. More specifically, it has been shown in Ref. 55 using Auger\\ndepth profiling that a 100 nm thick Zr filter can have 10 nm thick\\noxide layers on both sides of the filter. The total oxide layer thick-\\nness in Ref. 55 is of the same order of magnitude as the oxide layer\\nthickness we have found. The same study55 further shows that car-\\nbon and carbide mixed with Zr are also present throughout the filter,\\ndecreasing the transmission further. Since carbon and carbide mix-\\ning is not taken into account in our analysis, our calculations may\\noverestimate the ZrO2 layer thickness. For the Si filter, a total oxide\\nlayer thickness of 66 nm has been reported, somewhat thicker than\\nwhat we found.56 For the Al filter, oxide thicknesses around 15 nm\\nhave been reported, which match well with the 17 nm thickness that\\nis found here.56,57 All in all, the PTB-calibrated transmission curves\\ncan be well understood from our model assuming a relatively thick\\noxide layer coating the pure filter surfaces.\\nNext, the spectra are corrected with the filter transmission data\\nfrom PTB, the results of which are shown in Fig. 2(e). The corrected\\nspectra are shown starting from the short wavelength cutoff of each\\nfilter onward until the calibrated transmission drops below 10%. The\\ncorrected spectra are in very good agreement with each other [cf.\\nFig. 2(e)]. The dominant remaining difference is visible at 40 nm\\nwavelength and can be attributed to the third-order contribution\\nof the main emission feature at 13.5 nm that here only impacts\\nthe unfiltered spectrum and the Si filtered spectrum (the Zr-filtered\\nspectrum is shown up to 18 nm where the transmission drops below\\n10%). The Al-filtered spectrum is free of this third-order diffraction\\nfeature and will be used for this wavelength range.\\n2. 40–115 nm wavelength range\\nFor the investigation of the 40–115 nm wavelength range, we\\nuse the SiC mirrors. In Fig. 3(a), the spectrum obtained using the SiC\\nmirrors is presented. In the same figure, a scaled unfiltered spectrum\\nis also presented for comparison. The peak in the unfiltered spec-\\ntrum in the 65–70 nm range can be attributed to the fifth diffraction\\norder of the dominant 13.5 nm emission feature. The spectral inten-\\nsities in the SiC mirror measurements are between two and three\\norders of magnitude lower than the unfiltered spectrum.\\nThe SiC mirrors were sent to PTB for calibration in order to\\nmeasure its total reflection efficiency. The resulting calibration is\\ncompared to the theoretical response curve in Fig. 3(b). The dif-\\nference can be attributed partially to contamination but also to\\nscattering due to roughness.\\nThe LPP spectrum is then corrected with the reflectivity cali-\\nbration data from PTB, the results of which are shown in Fig. 3(c).\\nFIG. 3. (a) Raw tin LPP emission spectra using the SiC mirrors and no filter.\\nThe unfiltered spectrum is multiplied by ×0.007 for better visibility. (b) SiC mir-\\nror reflectivity curves: one calibrated by PTB and one from theory (see main text).\\n(c) Unfiltered spectrum and spectrum corrected for the SiC mirror reflectivity.\\nAIP Advances 11, 125003 (2021); doi: 10.1063/5.0073839\\n11, 125003-4\\n© Author(s) 2021\\n 05 July 2025 13:58:50\\n\\n\\n--- Page 6 ---\\n\\nAIP Advances\\nARTICLE\\nscitation.org/journal/adv\\nThe unfiltered and SiC filtered spectra show significant differences,\\nhighlighting the important contribution from higher orders to the\\nspectrum and emphasizing the need for suppression of higher orders\\nusing filters as is done here.\\n3. 115–265.5 nm wavelength range\\nTo investigate the 115–265.5 nm wavelength range, we have\\nrecorded spectra using (i) no filter and the filters (ii) LiF, (iii) MgF2,\\nand (iv) UVFS. The spectra are shown in Fig. 4(a). The spectrum\\nwith the LiF filter extends smoothly below 115 nm, but the spec-\\ntrum recorded using the MgF2 filter exhibits a steep decrease. The\\nUVFS filter has the longest cutoff wavelength at 165 nm. All filters\\ntransmit at wavelengths above 265.5 nm, which is the limit of the\\nmeasurement range set by the spectrometer.\\nIn Fig. 4(b), the calibrated transmission efficiency curves of the\\nthree filters used for this wavelength region are presented. Since\\nthe upper limit of the wavelength axis of our recorded spectra is\\n∼265.5 nm, a combination of two of the filters (either LiF or MgF2\\nwith UVFS) in the 115–265.5 nm range will fully suppress all\\nhigher-order contributions.\\nWe present the filter-corrected spectra in Fig. 4(c). The three\\nfilter-corrected spectra are generally in good agreement with each\\nother. The most significant difference, occurring below 120 nm, is\\nFIG. 4. (a) Raw emission spectra from a tin LPP using the LiF, MgF2, and UVFS\\nfilter and no filter. The unfiltered spectrum is multiplied by ×0.1 for better visibility.\\n(b) Filter transmission curves for the various filters. (c) Spectra corrected for the\\nrespective filter transmission functions.\\nFIG. 5. Concatenated spectra from tin LPP using the various filters, corrected for\\nthe respective transmission functions (see main text). The chosen range for each\\nspectrum is free of any higher diffraction orders. The unfiltered spectrum is also\\nshown for comparison.\\nrelated to the accuracy of the onset of the transmission of the MgF2\\nfilter and the precision of the relative wavelength calibration of the\\nexperiments and calibration. The comparison between the unfiltered\\nspectrum and the filter-corrected spectra highlights the prominent\\ncontribution from high diffraction orders. The apparent intensity,\\ni.e., counts, of the unfiltered spectrum is more than an order of mag-\\nnitude stronger than the true signal, thus emphasizing the need to\\nuse filters.\\nIn Fig. 5, we present the full spectrum in the 5.5–265.5 nm\\nwavelength range obtained from concatenating the filtered spec-\\ntra using only their respective ranges free of any higher diffrac-\\ntion orders. The individual y-axis values are shown to accurately\\n“connect” at the respective overlap regions. We note that no free\\nfit factors have been used to obtain this match. Instead, it is the\\naccurate calibration of the filter transmissions that enables this good\\nagreement. As seen before, strong contributions from higher diffrac-\\ntion orders are visible. In particular, the odd multiples of the main\\n13.5 nm emission feature stand out, starting from the third diffrac-\\ntion order.\\nB. Grating diffraction efficiency\\nThe first-order diffraction efficiency of the grating is shown\\nin Fig. 6(a), as obtained from calibration at PTB. The feature that\\nstands out is the “kink” near 12 nm that originates from the Si\\nL-edge absorption in the Si3N4 material present in the transmission\\ngrating.52\\nC. CCD response\\nThe CCD camera response is a product of three components:\\nthe gain, quantum yield (QY), and quantum efficiency (QE).60 The\\ngain relates the ADU to the generated electrons and has the units of\\nADU/e−. For the camera that is used in this experiment, the camera\\ngain is specified by the manufacturer58 as 0.83 ADU/e−.\\nThe QY is defined as the number of electrons generated per\\ndetected photon and is proportional to the energy of the photon.\\nA typical assumption in the EUV and VUV wavelength ranges59,61 is\\nAIP Advances 11, 125003 (2021); doi: 10.1063/5.0073839\\n11, 125003-5\\n© Author(s) 2021\\n 05 July 2025 13:58:50\\n\\n\\n--- Page 7 ---\\n\\nAIP Advances\\nARTICLE\\nscitation.org/journal/adv\\nFIG. 6. (a) Grating efficiency for the first diffraction order and QE of the CCD cam-\\nera, comparing manufacturer QE58 or experimental QE59 data (see main text). (b)\\nConcatenated spectra (cf. Fig. 5) after correcting for the diffraction efficiency of the\\ngrating and the CCD response using either manufacturer or experimental QE data\\nand solid angle.\\nthat a photon energy of 3.66 eV, which corresponds to the indirect\\nbandgap of Si, is needed to generate an electron. A detected photon\\nof energy E would thus generate E/(3.66 eV) electrons. As pointed\\nout also by Heymes et al.,61 this assumption breaks down in the opti-\\ncal range where QY will instead converge to a value of 1. In the here\\nstudied wavelength range, however, the simple 1/3.66 e−/eV rule is\\nin good agreement with a more detailed treatment.59,60 Correcting\\nfor QY enables converting the number of electrons to the number of\\ndetected photons or to the amount of detected energy in units of eV\\nwith a proportionality constant of 3.66. Hence, the QY for the wave-\\nlength range explored in this work can be written in units of e−/eV\\nor e−/mJ as QY = 1/3.66e−/eV = 1.71 × 1015e−/mJ.\\nThe QE is defined as the ratio of the number of detected pho-\\ntons to the number of photons arriving on the detector surface.\\nHence, it is also equal to the ratio of detected to incident energy.\\nIn Fig. 6(a), we show two such quantum efficiency curves. The first\\nis obtained from the manufacturer of the CCD used in our experi-\\nments.58 We note however that the calibration provided by the man-\\nufacturer depends, in part, on simulations and not experiments.62\\nAccording to their simulations, the sharp edge around 120 nm\\noriginates from thin film interference, assuming a sharp interface\\nbetween the assumed SiO2 layer and the active Si CCD surface. In\\nreality, the boundary is expected to be less sharp due to intermixing.\\nAs a result, the QE curve is expected to have a smoother shape. In\\nsearch of experimental support for our QE calibration, we employ\\nthe recent results.59 Further experimental QE studies are found in\\nprevious works.62–64 Comparing the two QE curves in Fig. 6(a), we\\nnote that there is a striking difference near 120 nm where a sharp,\\nsteep edge is visible in the QE from the manufacturer, which is not\\nsupported (either in amplitude or shape) by recent experimental\\nTABLE II. Energy emitted toward the spectrometer, i.e., under a 60○angle (cf. Fig. 1)\\nin the various wavelength ranges using manufacturer QE data (cf. Fig. 6).\\nWavelength\\nrange (nm)\\nCorresponding\\nfilter\\nEnergy\\n(mJ shot−1 sr−1)\\n(%) of total\\nenergy\\n5.5–17.5\\nZr\\n7.1\\n54.7\\n(13.5 nm ±1%a)\\n(Zr)\\n(0.4)\\n(3.1)\\n17.5–42.5\\nAl\\n4.2\\n32.5\\n42.5–115\\nSiC\\n1.5\\n11.4\\n115–175.5\\nLiF\\n0.2\\n1.2\\n175.5–265.5\\nUVFS\\n0.03\\n0.2\\nTotal energy\\n13.0\\naThe value for the energy emitted in the 2%-wavelength bandwidth centered around\\n13.5 nm is impacted on by the limited resolution of the spectrometer (0.8 nm at\\n13.5 nm).\\nwork.59 The differences between the available QE curves may be due\\nto dissimilarities in manufacturing processes or, for instance, due\\nto possible aging effects. Considering the significant differences, the\\noverall uncertainty in our final spectrum is expected to be dominated\\nby the QE curve.\\nAs the final step, the concatenated spectra of Fig. 5 are cor-\\nrected for the camera response (gain, QY, and QE) together with\\nthe solid angle of the spectrometer (37 × 10−11 sr), and the resulting\\ncorrected full-range spectrum is shown in Fig. 6(b). Integral ener-\\ngies emitted in the various wavelength ranges, following the filters\\nused, are presented in Table II. The final corrections, using either QE\\ncurve, produce a “knee” near 120 nm wavelength that is not visible\\nin the concatenated data of Fig. 5, which may point at a discrepancy\\nbetween the true QE and the available QE curves.\\nFurther corrections for the source size (possibly weakly\\nwavelength-dependent) and for the precise time dependence of the\\ntransient emission are required to interpret the obtained intensity\\nin terms of spectral radiance. These steps are left as future work but\\nmay be expected to have only limited impact on the overall shape\\nof the emission spectrum, as shown in Fig. 6(b). Nevertheless, the\\nobtained spectrum enables diagnosing the energy distribution of the\\nLPP that is useful for optimizing the LPP based EUV sources.'),\n",
       " ('IV. CONCLUSIONS',\n",
       "  'We present a fully calibrated spectrum in the 5.5–265.5 nm\\nrange from a microdroplet-tin Nd:YAG-laser-produced plasma. The\\nspectrum obtained using a transmission grating spectrometer is the\\nresult of a careful calibration of a series of filters enabling measure-\\nments free of any higher diffraction orders. Specifically, we use Zr,\\nSi, and Al foil filters and bulk LiF, MgF2, and UVFS filters. A fur-\\nther filter using four SiC mirrors is used to record the otherwise\\ninaccessible 40–100 nm region. The photon energy in this partic-\\nular wavelength range is significant and provides input for further\\nstudies on the impact of EUV-induced-plasma in the EUV source\\nvessel. The fully corrected and concatenated spectra are shown to\\naccurately match in their respective overlap regions, demonstrating\\nthe accuracy of the calibration procedure. The dominant remaining\\nuncertainty stems from the correction for quantum efficiency. Our\\ncalibration enables the optimization of current and future sources\\nof EUV light for nanolithography by providing metrology for\\nAIP Advances 11, 125003 (2021); doi: 10.1063/5.0073839\\n11, 125003-6\\n© Author(s) 2021\\n 05 July 2025 13:58:50\\n\\n\\n--- Page 8 ---\\n\\nAIP Advances\\nARTICLE\\nscitation.org/journal/adv\\nminimizing the emission of unwanted wavelength bands that may\\nlimit imaging contrast or even impact machine uptime.\\nSUPPLEMENTARY MATERIAL\\nSee the supplementary material for the data presented in Figs. 5\\nand 6(b).\\nACKNOWLEDGMENTS\\nPart of this work was carried out within the Advanced Research\\nCenter for Nanolithography, a public-private partnership of the\\nUniversity of Amsterdam, the Vrije Universiteit Amsterdam, the\\nDutch Research Council (NWO), and the semiconductor equipment\\nmanufacturer ASML, and was financed by Toeslag voor Topconsor-\\ntia voor Kennis en Innovatie from the Dutch Ministry of Economic\\nAffairs. The transmission grating spectrometer was developed in the\\nIndustrial Focus Group XUV Optics at the University of Twente\\nand supported by the FOM Valorisation Prize 2011 awarded to F.\\nBijkerk and the NanoNextNL Valorization Grant awarded to M.\\nBayraktar in 2015. This project was funded by TKI-HTSM under\\nthe project name “Spectral Unraveling of EUV Lithography Light\\nSources (SUN).” This project received further funding from Euro-\\npean Research Council Starting Grant No. 802648 and is part of the\\nVIDI research program under Project No. 15697, which is financed\\nby NWO. The authors would like to thank Dr. Julian Heymes (The\\nOpen University, Milton Keynes, UK) for his valuable contribution\\nto this manuscript.\\nAUTHOR DECLARATIONS\\nConflict of Interest\\nThe authors have no conflicts to disclose.\\nDATA AVAILABILITY\\nThe data that support the findings of this study are available\\nfrom the corresponding author upon reasonable request. The par-\\nticular data that support the findings of this study as presented in\\nFigs. 5 and 6(b) are available within the article and its supplementary\\nmaterial.\\nREFERENCES\\n1O. O. Versolato, “Physics of laser-driven tin plasma sources of EUV radiation for\\nnanolithography,” Plasma Sources Sci. Technol. 28, 083001 (2019).\\n2M. Purvis, I. V. Fomenkov, A. A. Schafgans, M. Vargas, S. Rich, Y. Tao, S. I.\\nRokitski, M. Mulder, E. Buurman, M. Kats, J. Stewart, A. D. LaForge, C. Rajyaguru,\\nG. Vaschenko, A. I. Ershov, R. J. Rafac, M. Abraham, D. C. Brandt, and D. J.\\nBrown, “Industrialization of a robust EUV source for high-volume manufacturing\\nand power scaling beyond 250 W,” Proc. SPIE 10583, 1058327 (2018).\\n3S. K. Moore, “EUV lithography finally ready for fabs,” IEEE Spectrum 55, 46–48\\n(2018).\\n4H. Mizoguchi, H. Nakarai, T. Abe, K. M. Nowak, Y. Kawasuji, H. Tanaka et al.,\\nHigh Power LPP-EUV Source with Long Collector Mirror Lifetime for High Volume\\nSemiconductor Manufacturing, China Semiconductor Technology International\\nConference (CSTIC) (IEEE, 2018), pp. 1–7.\\n5A. Y. Vinokhodov, M. S. Krivokorytov, Y. V. Sidelnikov, V. M. Krivtsun,')]"
      ]
     },
     "execution_count": 29,
     "metadata": {},
     "output_type": "execute_result"
    }
   ],
   "source": [
    "sections"
   ]
  },
  {
   "cell_type": "code",
   "execution_count": null,
   "id": "ba144440",
   "metadata": {},
   "outputs": [],
   "source": []
  },
  {
   "cell_type": "code",
   "execution_count": null,
   "id": "fcb8b9c7",
   "metadata": {},
   "outputs": [],
   "source": []
  },
  {
   "cell_type": "code",
   "execution_count": null,
   "id": "69eec1ad",
   "metadata": {},
   "outputs": [],
   "source": []
  },
  {
   "cell_type": "code",
   "execution_count": 41,
   "id": "eac8fe43",
   "metadata": {},
   "outputs": [
    {
     "name": "stdout",
     "output_type": "stream",
     "text": [
      "[Grobid] TEI XML written to /Users/jamesbyers/code/github/knowledge_graphs/data/processed/2021Bouza_tei.xml\n"
     ]
    },
    {
     "data": {
      "text/plain": [
       "'/Users/jamesbyers/code/github/knowledge_graphs/data/processed/2021Bouza_tei.xml'"
      ]
     },
     "execution_count": 41,
     "metadata": {},
     "output_type": "execute_result"
    }
   ],
   "source": [
    "# ==== Grobid Extraction ====\n",
    "def parse_pdf_with_grobid(pdf_path, output_path, service_url=\"http://localhost:8070/api/processFulltextDocument\"):\n",
    "    with open(pdf_path, 'rb') as pdf_file:\n",
    "        files = {'input': (pdf_path, pdf_file, 'application/pdf')}\n",
    "        response = requests.post(service_url, files=files)\n",
    "        if response.status_code == 200:\n",
    "            with open(output_path, \"w\", encoding=\"utf-8\") as out:\n",
    "                out.write(response.text)\n",
    "            print(f\"[Grobid] TEI XML written to {output_path}\")\n",
    "            return output_path\n",
    "        else:\n",
    "            raise Exception(f\"Grobid error: {response.status_code} {response.text}\")\n",
    "\n",
    "parse_pdf_with_grobid(pdf_path, tei_output)\n"
   ]
  },
  {
   "cell_type": "code",
   "execution_count": null,
   "id": "510f8a6e",
   "metadata": {},
   "outputs": [
    {
     "name": "stdout",
     "output_type": "stream",
     "text": [
      "\n",
      "================================================================================\n",
      "Title: The spectrum of a 1-μm-wavelength-driven tin microdroplet laser-produced plasma source in the 5.5-265.5 nm wavelength range\n",
      "Authors: []\n",
      "Abstract: Production of 13.5 nm light with 5% conversion efficiency from 2 μ m laser-driven tin microdroplet plasma\n",
      "Sections:\n",
      "================================================================================\n"
     ]
    }
   ],
   "source": [
    "# --- Print/Return Results ---\n",
    "print(\"\\n\" + \"=\"*80)\n",
    "print(\"Title:\", title)\n",
    "print(\"Authors:\", authors)\n",
    "print(\"Abstract:\", abstract[:300] + (\"...\" if len(abstract) > 300 else \"\"))\n",
    "print(\"Sections:\")\n",
    "for section in sections[:3]:  # Print first 3 sections as example\n",
    "    print(f\"\\n== {section['heading']} ==\")\n",
    "    print(section['paragraphs'][0][:200] + (\"...\" if len(section['paragraphs'][0]) > 200 else \"\") if section['paragraphs'] else \"[No Content]\")\n",
    "print(\"=\"*80)\n",
    "\n",
    "# Abstract and sections now available as variables for further use."
   ]
  },
  {
   "cell_type": "code",
   "execution_count": 9,
   "id": "c3939f67",
   "metadata": {},
   "outputs": [
    {
     "data": {
      "text/plain": [
       "[]"
      ]
     },
     "execution_count": 9,
     "metadata": {},
     "output_type": "execute_result"
    }
   ],
   "source": [
    "sections"
   ]
  },
  {
   "cell_type": "code",
   "execution_count": null,
   "id": "0ae732cc",
   "metadata": {},
   "outputs": [],
   "source": []
  }
 ],
 "metadata": {
  "kernelspec": {
   "display_name": "Python (kg-env)",
   "language": "python",
   "name": "kg-env"
  },
  "language_info": {
   "codemirror_mode": {
    "name": "ipython",
    "version": 3
   },
   "file_extension": ".py",
   "mimetype": "text/x-python",
   "name": "python",
   "nbconvert_exporter": "python",
   "pygments_lexer": "ipython3",
   "version": "3.10.18"
  }
 },
 "nbformat": 4,
 "nbformat_minor": 5
}
