{
 "cells": [
  {
   "cell_type": "markdown",
   "id": "d68ec504",
   "metadata": {},
   "source": [
    "### Instructions for Running Grobid Docker\n",
    "\n",
    "Before running this script, make sure you have Grobid running as a Docker container.\n",
    "\n",
    "You can start Grobid using the following command:\n",
    "\n",
    "```docker run --rm -p 8070:8070 lfoppiano/grobid:0.8.0```\n",
    "\n",
    "This exposes the Grobid REST API at `http://localhost:8070`."
   ]
  },
  {
   "cell_type": "code",
   "execution_count": null,
   "id": "2ce443aa",
   "metadata": {},
   "outputs": [],
   "source": [
    "import os\n",
    "import fitz  # PyMuPDF\n",
    "from pdfminer.high_level import extract_text\n",
    "import requests\n",
    "from bs4 import BeautifulSoup\n",
    "from lxml import etree\n",
    "import re"
   ]
  },
  {
   "cell_type": "code",
   "execution_count": 36,
   "id": "b35f0b58",
   "metadata": {},
   "outputs": [],
   "source": [
    "# ==== Paths & Helpers ====\n",
    "def get_file_path(filename, folder):\n",
    "    \"\"\"Return the full path to filename in a folder.\"\"\"\n",
    "    return os.path.join(os.getcwd(), folder, filename)\n",
    "\n",
    "def ensure_dir_exists(folder):\n",
    "    if not os.path.exists(folder):\n",
    "        os.makedirs(folder)"
   ]
  },
  {
   "cell_type": "code",
   "execution_count": 38,
   "id": "6da2dd36",
   "metadata": {},
   "outputs": [],
   "source": [
    "# ==== File Structure ====\n",
    "PDF_FILENAME = \"2021Bouza.pdf\"\n",
    "RAW_DIR = \"data/raw\"\n",
    "PROCESSED_DIR = \"data/processed\"\n",
    "\n",
    "ensure_dir_exists(PROCESSED_DIR)\n",
    "\n",
    "# Input\n",
    "pdf_path = get_file_path(PDF_FILENAME, RAW_DIR)\n",
    "out_base = os.path.splitext(PDF_FILENAME)[0]\n",
    "# Outputs\n",
    "pymupdf_output = get_file_path(f\"{out_base}_pymupdf.txt\", PROCESSED_DIR)\n",
    "pdfminer_output = get_file_path(f\"{out_base}_pdfminer.txt\", PROCESSED_DIR)\n",
    "tei_output = get_file_path(f\"{out_base}_tei.xml\", PROCESSED_DIR)"
   ]
  },
  {
   "cell_type": "code",
   "execution_count": 39,
   "id": "958c1689",
   "metadata": {},
   "outputs": [
    {
     "name": "stdout",
     "output_type": "stream",
     "text": [
      "[PyMuPDF] Text extracted to /Users/jamesbyers/code/github/knowledge_graphs/data/processed/2021Bouza_pymupdf.txt\n"
     ]
    }
   ],
   "source": [
    "# ==== PyMuPDF Extraction ====\n",
    "def extract_with_pymupdf(pdf_path, output_path):\n",
    "    doc = fitz.open(pdf_path)\n",
    "    with open(output_path, \"w\", encoding=\"utf-8\") as out:\n",
    "        for i, page in enumerate(doc, start=1):\n",
    "            out.write(f\"\\n\\n--- Page {i} ---\\n\\n\")\n",
    "            out.write(page.get_text())\n",
    "    print(f\"[PyMuPDF] Text extracted to {output_path}\")\n",
    "\n",
    "extract_with_pymupdf(pdf_path, pymupdf_output)"
   ]
  },
  {
   "cell_type": "code",
   "execution_count": 40,
   "id": "e44c9c4f",
   "metadata": {},
   "outputs": [
    {
     "name": "stderr",
     "output_type": "stream",
     "text": [
      "Cannot set gray stroke color because /'P12' is an invalid float value\n",
      "Cannot set gray non-stroke color because /'P12' is an invalid float value\n"
     ]
    },
    {
     "name": "stdout",
     "output_type": "stream",
     "text": [
      "[PDFMiner] Text extracted to /Users/jamesbyers/code/github/knowledge_graphs/data/processed/2021Bouza_pdfminer.txt\n"
     ]
    }
   ],
   "source": [
    "# ==== PDFMiner Extraction ====\n",
    "def extract_with_pdfminer(pdf_path, output_path):\n",
    "    text = extract_text(pdf_path)\n",
    "    with open(output_path, \"w\", encoding=\"utf-8\") as out:\n",
    "        out.write(text)\n",
    "    print(f\"[PDFMiner] Text extracted to {output_path}\")\n",
    "\n",
    "extract_with_pdfminer(pdf_path, pdfminer_output)"
   ]
  },
  {
   "cell_type": "code",
   "execution_count": 41,
   "id": "eac8fe43",
   "metadata": {},
   "outputs": [
    {
     "name": "stdout",
     "output_type": "stream",
     "text": [
      "[Grobid] TEI XML written to /Users/jamesbyers/code/github/knowledge_graphs/data/processed/2021Bouza_tei.xml\n"
     ]
    },
    {
     "data": {
      "text/plain": [
       "'/Users/jamesbyers/code/github/knowledge_graphs/data/processed/2021Bouza_tei.xml'"
      ]
     },
     "execution_count": 41,
     "metadata": {},
     "output_type": "execute_result"
    }
   ],
   "source": [
    "# ==== Grobid Extraction ====\n",
    "def parse_pdf_with_grobid(pdf_path, output_path, service_url=\"http://localhost:8070/api/processFulltextDocument\"):\n",
    "    with open(pdf_path, 'rb') as pdf_file:\n",
    "        files = {'input': (pdf_path, pdf_file, 'application/pdf')}\n",
    "        response = requests.post(service_url, files=files)\n",
    "        if response.status_code == 200:\n",
    "            with open(output_path, \"w\", encoding=\"utf-8\") as out:\n",
    "                out.write(response.text)\n",
    "            print(f\"[Grobid] TEI XML written to {output_path}\")\n",
    "            return output_path\n",
    "        else:\n",
    "            raise Exception(f\"Grobid error: {response.status_code} {response.text}\")\n",
    "\n",
    "parse_pdf_with_grobid(pdf_path, tei_output)\n"
   ]
  },
  {
   "cell_type": "code",
   "execution_count": 42,
   "id": "510f8a6e",
   "metadata": {},
   "outputs": [],
   "source": [
    "# ==== TEI Parsing with BeautifulSoup & lxml ====\n",
    "def parse_tei_xml(tei_file):\n",
    "    with open(tei_file, \"r\", encoding=\"utf-8\") as f:\n",
    "        tei_text = f.read()\n",
    "    soup = BeautifulSoup(tei_text, \"lxml-xml\")\n",
    "    tree = etree.fromstring(tei_text.encode('utf-8'))\n",
    "    NS = {\"tei\": \"http://www.tei-c.org/ns/1.0\"}\n",
    "\n",
    "    # Title\n",
    "    title = soup.find('titleStmt').find('title').text.strip() if soup.find('titleStmt') else \"\"\n",
    "    # Authors\n",
    "    authors = []\n",
    "    for author in tree.findall('.//tei:titleStmt/tei:author', namespaces=NS):\n",
    "        pers = author.find('tei:persName', namespaces=NS)\n",
    "        if pers is not None:\n",
    "            surname = pers.find('tei:surname', namespaces=NS)\n",
    "            forename = pers.find('tei:forename', namespaces=NS)\n",
    "            full_name = \" \".join([\n",
    "                forename.text.strip() if forename is not None else \"\",\n",
    "                surname.text.strip() if surname is not None else \"\"\n",
    "            ]).strip()\n",
    "            if full_name:\n",
    "                authors.append(full_name)\n",
    "    # Abstract\n",
    "    abstract_el = tree.find('.//tei:abstract', namespaces=NS)\n",
    "    abstract = \" \".join(p.text.strip() for p in abstract_el.findall('.//tei:p', namespaces=NS)) if abstract_el is not None else \"\"\n",
    "    # Sections\n",
    "    sections = []\n",
    "    for div in tree.findall('.//tei:text/tei:body/tei:div[@type=\"section\"]', namespaces=NS):\n",
    "        head = div.find('tei:head', namespaces=NS)\n",
    "        head_text = head.text.strip() if head is not None else \"\"\n",
    "        paragraphs = [p.text.strip() for p in div.findall('tei:p', namespaces=NS) if p.text]\n",
    "        sections.append({'heading': head_text, 'paragraphs': paragraphs})\n",
    "    return title, authors, abstract, sections\n",
    "\n",
    "tei_title, tei_authors, tei_abstract, tei_sections = parse_tei_xml(tei_output)"
   ]
  },
  {
   "cell_type": "code",
   "execution_count": 43,
   "id": "a482d0e7",
   "metadata": {},
   "outputs": [],
   "source": [
    "# ==== PyMuPDF Regex Extraction (as fallback or comparison) ====\n",
    "def extract_sections_from_txt(txt_file):\n",
    "    with open(txt_file, \"r\", encoding=\"utf-8\") as f:\n",
    "        text = f.read()\n",
    "    # Example regex extraction (adapt as needed):\n",
    "    abstract = re.search(r\"ABSTRACT\\s*(.*?)\\s*I\\. INTRODUCTION\", text, re.DOTALL)\n",
    "    abstract = abstract.group(1).strip() if abstract else \"\"\n",
    "    sections = re.findall(r\"\\n([IVX]+\\. [A-Z \\-]+)\\n(.*?)(?=\\n[IVX]+\\. |$)\", text, re.DOTALL)\n",
    "    section_data = []\n",
    "    for heading, content in sections:\n",
    "        paras = [p.strip() for p in content.strip().split('\\n') if p.strip()]\n",
    "        section_data.append({'heading': heading.strip(), 'paragraphs': paras})\n",
    "    return abstract, section_data\n",
    "\n",
    "pymupdf_abstract, pymupdf_sections = extract_sections_from_txt(pymupdf_output)\n"
   ]
  },
  {
   "cell_type": "code",
   "execution_count": 11,
   "id": "1da1a8dd",
   "metadata": {},
   "outputs": [
    {
     "name": "stdout",
     "output_type": "stream",
     "text": [
      "Title: The spectrum of a 1-μm-wavelength-driven tin microdroplet laser-produced plasma source in the 5.5-265.5 nm wavelength range\n",
      "Authors: []\n",
      "Abstract: Production of 13.5 nm light with 5% conversion efficiency from 2 μ m laser-driven tin microdroplet plasma\n",
      "\n",
      "Sections:\n"
     ]
    }
   ],
   "source": [
    "from lxml import etree\n",
    "\n",
    "tei_file = \"2021Bouza_tei.xml\"\n",
    "tree = etree.parse(tei_file)\n",
    "root = tree.getroot()\n",
    "\n",
    "NS = {\"tei\": \"http://www.tei-c.org/ns/1.0\"}\n",
    "\n",
    "# Title\n",
    "title = root.find('.//tei:titleStmt/tei:title', namespaces=NS)\n",
    "print(\"Title:\", title.text.strip() if title is not None else \"\")\n",
    "\n",
    "# Authors (main article authors only)\n",
    "authors = []\n",
    "for author in root.findall('.//tei:titleStmt/tei:author', namespaces=NS):\n",
    "    pers = author.find('tei:persName', namespaces=NS)\n",
    "    if pers is not None:\n",
    "        surname = pers.find('tei:surname', namespaces=NS)\n",
    "        forename = pers.find('tei:forename', namespaces=NS)\n",
    "        full_name = \" \".join([forename.text.strip() if forename is not None else \"\", \n",
    "                              surname.text.strip() if surname is not None else \"\"]).strip()\n",
    "        if full_name:\n",
    "            authors.append(full_name)\n",
    "print(\"Authors:\", authors)\n",
    "\n",
    "# Abstract\n",
    "abstract = root.find('.//tei:abstract', namespaces=NS)\n",
    "if abstract is not None:\n",
    "    abs_text = \" \".join(p.text.strip() for p in abstract.findall('.//tei:p', namespaces=NS) if p.text)\n",
    "    print(\"Abstract:\", abs_text)\n",
    "else:\n",
    "    print(\"Abstract:\")\n",
    "\n",
    "# Sections\n",
    "print(\"\\nSections:\")\n",
    "for div in root.findall('.//tei:text/tei:body/tei:div[@type=\"section\"]', namespaces=NS):\n",
    "    head = div.find('tei:head', namespaces=NS)\n",
    "    head_text = head.text.strip() if head is not None else \"\"\n",
    "    paragraphs = [p.text.strip() for p in div.findall('tei:p', namespaces=NS) if p.text]\n",
    "    print(f\"\\n== {head_text} ==\")\n",
    "    for para in paragraphs:\n",
    "        print(para)\n"
   ]
  },
  {
   "cell_type": "code",
   "execution_count": 51,
   "id": "c4881b0f",
   "metadata": {},
   "outputs": [
    {
     "name": "stdout",
     "output_type": "stream",
     "text": [
      "\n",
      "================================================================================\n",
      "TEI Title: The spectrum of a 1-μm-wavelength-driven tin microdroplet laser-produced plasma source in the 5.5-265.5 nm wavelength range\n",
      "TEI Authors: []\n",
      "TEI Abstract: Production of 13.5 nm light with 5% conversion efficiency from 2 μ m laser-driven tin microdroplet plasma...\n",
      "TEI Sections:\n",
      "================================================================================\n",
      "\n",
      "PyMuPDF Abstract:\n",
      "We present a calibrated spectrum in the 5.5–265.5 nm range from a microdroplet-tin Nd:YAG-laser-produced plasma under conditions\n",
      "relevant for the production of extreme ultraviolet (EUV) light at 13.5 nm for nanolithography. The plasma emission spectrum obtained\n",
      "using a custom-built transmission grat\n",
      "\n",
      "PyMuPDF Sections (first 2):\n",
      "  - I. INTRODUCTION: Laser-produced plasma (LPP) generated from liquid tin (Sn)...\n",
      "  - II. EXPERIMENTAL SETUP: In our experiments, molten tin microdroplets of 46 μm dia-...\n",
      "================================================================================\n"
     ]
    }
   ],
   "source": [
    "# ==== Outputs ====\n",
    "\n",
    "print(\"\\n\" + \"=\"*80)\n",
    "print(f\"TEI Title: {tei_title}\")\n",
    "print(f\"TEI Authors: {tei_authors}\")\n",
    "print(f\"TEI Abstract: {tei_abstract[:300]}...\")\n",
    "print(\"TEI Sections:\")\n",
    "for section in tei_sections[:3]:  # print first 3 sections for brevity\n",
    "    print(f\"  - {section['heading']}: {section['paragraphs'][0][:80]}...\" if section['paragraphs'] else f\"  - {section['heading']}: [No content]\")\n",
    "print(\"=\"*80)\n",
    "print(f\"\\nPyMuPDF Abstract:\\n{pymupdf_abstract[:300]}\")\n",
    "print(\"\\nPyMuPDF Sections (first 2):\")\n",
    "for section in pymupdf_sections[:2]:\n",
    "    print(f\"  - {section['heading']}: {section['paragraphs'][0][:80]}...\" if section['paragraphs'] else f\"  - {section['heading']}: [No content]\")\n",
    "print(\"=\"*80)"
   ]
  },
  {
   "cell_type": "code",
   "execution_count": 56,
   "id": "501fbaaa",
   "metadata": {},
   "outputs": [
    {
     "data": {
      "text/plain": [
       "[]"
      ]
     },
     "execution_count": 56,
     "metadata": {},
     "output_type": "execute_result"
    }
   ],
   "source": [
    "tei_sections"
   ]
  },
  {
   "cell_type": "code",
   "execution_count": 57,
   "id": "a4dec59d",
   "metadata": {},
   "outputs": [
    {
     "name": "stdout",
     "output_type": "stream",
     "text": [
      "Title: DECEMBER 02 2021\n",
      "The spectrum of a 1-μm-wavelength-driven tin microdroplet\n",
      "laser-produced plasma source in the 5.5–265.5 nm\n",
      "wavelength range\n",
      "Z. Bouza \n",
      " ; J. Byers \n",
      " ; J. Scheers \n",
      " ; R. Schupp \n",
      " ; Y. Mostafa; L. Behnke; Z. Mazzotta \n",
      " ; J. Sheil \n",
      " ;\n",
      "W. Ubachs \n",
      " ; R. Hoekstra \n",
      " ; M. Bayraktar \n",
      " ; O. O. Versolato  \n",
      "AIP Advances 11, 125003 (2021)\n",
      "https://doi.org/10.1063/5.0073839\n",
      "Articles You May Be Interested In\n",
      "Radiation transport and scaling of optical depth in Nd:YAG laser-produced microdroplet-tin plasma\n",
      "Appl. Phys. Lett. (September 2019)\n",
      "Production of 13.5 nm light with 5% conversion efficiency from 2 μ m laser-driven tin microdroplet plasma\n",
      "Appl. Phys. Lett. (December 2023)\n",
      "Laser-induced vaporization of a stretching sheet of liquid tin\n",
      "J. Appl. Phys. (February 2021)\n",
      " 05 July 2025 13:58:50\n",
      "\n",
      "\n",
      "--- Page 2 ---\n",
      "\n",
      "AIP Advances\n",
      "ARTICLE\n",
      "scitation.org/journal/adv\n",
      "The spectrum of a 1-μm-wavelength-driven tin\n",
      "microdroplet laser-produced plasma source\n",
      "in the 5.5–265.5 nm wavelength range\n",
      "Authors: Z. Bouza   ; J. Byers   ; J. Scheers   ; R. Schupp   ; Y. Mostafa; L. Behnke; Z. Mazzotta   ; J. Sheil   ; W. Ubachs   ; R. Hoekstra   ; M. Bayraktar   ; O. O. Versolato   AIP Advances 11, 125003 (2021) https://doi.org/10.1063/5.0073839 Articles You May Be Interested In Radiation transport and scaling of optical depth in Nd:YAG laser-produced microdroplet-tin plasma Appl. Phys. Lett. (September 2019) Production of 13.5 nm light with 5% conversion efficiency from 2 μ m laser-driven tin microdroplet plasma Appl. Phys. Lett. (December 2023) Laser-induced vaporization of a stretching sheet of liquid tin J. Appl. Phys. (February 2021)  05 July 2025 13:58:50   --- Page 2 ---  AIP Advances ARTICLE scitation.org/journal/adv The spectrum of a 1-μm-wavelength-driven tin microdroplet laser-produced plasma source in the 5.5–265.5 nm wavelength range Cite as: AIP Advances 11, 125003 (2021); doi: 10.1063/5.0073839 Submitted: 4 October 2021 • Accepted: 5 November 2021 • Published Online: 2 December 2021 Z. Bouza,1 J. Byers,2 J. Scheers,1,3 R. Schupp,1 Y. Mostafa,1 L. Behnke,1 Z. Mazzotta,1 J. Sheil,1 W. Ubachs,1,3 R. Hoekstra,1,4 M. Bayraktar,2 and O. O. Versolato1,3a)\n",
      "Abstract: We present a calibrated spectrum in the 5.5–265.5 nm range from a microdroplet-tin Nd:YAG-laser-produced plasma under conditions\n",
      "relevant for the production of extreme ultraviolet (EUV) light at 13.5 nm for nanolithography. The plasma emission spectrum obtained\n",
      "using a custom-built transmission grating spectrometer results from a careful calibration of a series of filters enabling measurements free\n",
      "of any higher diffraction orders. Specifically, Zr, Si, and Al thin-foil filters and bulk LiF, MgF2, and UV fused silica filters are employed. A\n",
      "further filter using four SiC mirrors is used to record the otherwise inaccessible 40–100 nm range. The resulting corrected and concatenated\n",
      "spectra are shown to accurately match in their respective overlap regions. The possibility to measure spectra over this broad range enables\n",
      "the optimization of current and future sources of EUV light for nanolithography by providing the diagnostics required for minimizing the\n",
      "emission of unwanted wavelength bands.\n",
      "© 2021 Author(s). All article content, except where otherwise noted, is licensed under a Creative Commons Attribution (CC BY) license\n",
      "(http://creativecommons.org/licenses/by/4.0/). https://doi.org/10.1063/5.0073839\n",
      "Sections:\n",
      "\n",
      " I. INTRODUCTION\n",
      "Laser-produced plasma (LPP) generated from liquid tin (Sn)\n",
      "microdroplets provides extreme ultraviolet (EUV) light for mod-\n",
      "ern nanolithography,1–7 enabling the continued reduction of feature\n",
      "sizes on affordable integrated circuits (ICs). Such laser-produced\n",
      "plasmas of tin are characterized by a stro ...\n",
      "\n",
      " II. EXPERIMENTAL SETUP\n",
      "In our experiments, molten tin microdroplets of 46 μm dia-\n",
      "meter\n",
      "are\n",
      "first\n",
      "irradiated\n",
      "by\n",
      "a\n",
      "relatively\n",
      "low\n",
      "intensity\n",
      "(∼109 W/cm2), 1-μm-wavelength pre-pulse (PP) from an Nd:YAG\n",
      "laser.46 The microdroplets are dispensed from a droplet generator\n",
      "inside a vacuum vessel with a background pressure of ∼10−6 ...\n",
      "\n",
      " III. RESULTS\n",
      "In this section, three necessary types of corrections are applied\n",
      "to the raw spectra, namely, the (A) filter transmission, (B) grating\n",
      "diffraction efficiency, and (C) CCD response.\n",
      "A. Filter transmission\n",
      "Spectra were recorded in the 5.5–265.5 nm-wavelength region\n",
      "using different filters. The advanta ...\n",
      "\n",
      " IV. CONCLUSIONS\n",
      "We present a fully calibrated spectrum in the 5.5–265.5 nm\n",
      "range from a microdroplet-tin Nd:YAG-laser-produced plasma. The\n",
      "spectrum obtained using a transmission grating spectrometer is the\n",
      "result of a careful calibration of a series of filters enabling measure-\n",
      "ments free of any higher diffraction  ...\n"
     ]
    }
   ],
   "source": [
    "import re\n",
    "\n",
    "with open(\"/Users/jamesbyers/code/github/knowledge_graphs/2021Bouza_pymupdf.txt\", \"r\") as f:\n",
    "    text = f.read()\n",
    "\n",
    "# Title: first non-empty line\n",
    "title = re.search(r\"(?<=\\| )(.*?nm wavelength range)\", text, re.DOTALL)\n",
    "if title:\n",
    "    title = title.group(1).strip()\n",
    "\n",
    "# Abstract: between 'ABSTRACT' and 'I. INTRODUCTION'\n",
    "abstract = re.search(r\"ABSTRACT\\s*(.*?)\\s*I\\. INTRODUCTION\", text, re.DOTALL)\n",
    "if abstract:\n",
    "    abstract = abstract.group(1).strip()\n",
    "\n",
    "# Authors: first block after title, before affiliations\n",
    "authors_block = re.search(r\"wavelength range\\s+(.*?)\\s+AFFILIATIONS\", text, re.DOTALL)\n",
    "if authors_block:\n",
    "    authors = authors_block.group(1).replace('\\n', ' ').strip()\n",
    "\n",
    "# Sections: e.g., find all section headings and paragraphs\n",
    "sections = re.findall(r\"\\n([IVX]+\\. [A-Z \\-]+)\\n(.*?)(?=\\n[IVX]+\\. |$)\", text, re.DOTALL)\n",
    "\n",
    "# Print result\n",
    "print(\"Title:\", title)\n",
    "print(\"Authors:\", authors)\n",
    "print(\"Abstract:\", abstract)\n",
    "print(\"Sections:\")\n",
    "for heading, content in sections:\n",
    "    print(\"\\n\", heading.strip())\n",
    "    print(content.strip()[:300], \"...\")\n"
   ]
  },
  {
   "cell_type": "code",
   "execution_count": 58,
   "id": "4a9c5cbf",
   "metadata": {},
   "outputs": [
    {
     "data": {
      "text/plain": [
       "('I. INTRODUCTION',\n",
       " 'Laser-produced plasma (LPP) generated from liquid tin (Sn)\\nmicrodroplets provides extreme ultraviolet (EUV) light for mod-\\nern nanolithography,1–7 enabling the continued reduction of feature\\nsizes on affordable integrated circuits (ICs). Such laser-produced\\nplasmas of tin are characterized by a strong emission peak near\\n13.5 nm, originating from transitions between complex excited\\nstates in multiply charged Sn10+–Sn15+ ions.8–17\\nMultilayer optics are used in industrial lithography machines\\nto collect the EUV light from its source and to provide an image\\nof the so-called mask onto the wafer. These optics are designed to\\nreflect wavelengths in a 2%-wavelength bandwidth centered around\\n13.5 nm (the bandwidth limitation is, in part, due to the many ∼10\\nrequired reflective surfaces).18,19 As such, most spectroscopic works\\non Sn LPPs have focused on the “in-band” wavelength region17,20–24\\nor on nearby out-of-band (OOB) EUV emission features,14,23,25–31\\nspectral regions of which may help diagnose the plasma in terms\\nof its main in-band emitters’ charge states or temperature. Little\\nspectroscopic information is available for longer vacuum (VUV)-\\nand deep-ultraviolet (DUV) wavelengths, in particular, in terms of\\nrelative (or absolute) emission intensities. Available spectra in the lit-\\nerature show either vacuum- or deep-ultraviolet spectra without the\\nEUV region around 13.5 nm,32–36 or if the EUV region is presented,\\nthe spectral range between EUV and DUV is not shown.37–42\\nVUV/DUV emission may be transported through the multi-\\nlayer optics systems and expose the wafer. Given the significant pho-\\nton energy, this exposure may influence the chemical processes on\\nthe wafer and negatively impact imaging contrast and quality.43,44 As\\nsuch, it is of significant interest to understand in detail the spectrum\\nAIP Advances 11, 125003 (2021); doi: 10.1063/5.0073839\\n11, 125003-1\\n© Author(s) 2021\\n 05 July 2025 13:58:50\\n\\n\\n--- Page 3 ---\\n\\nAIP Advances\\nARTICLE\\nscitation.org/journal/adv\\nof EUV generating LPPs in terms of their absolute emission inten-\\nsity. This will enable identifying the origins of many yet-unknown\\nemission features and enable the development of mitigation strate-\\ngies, i.e., minimize the OOB emission. In particular, the wavelength\\nrange of 30–90 nm is important for EUV lithography due to the\\nstrong absorption by hydrogen, which is present as a buffer gas in\\nthe EUV source chambers. Photoionization of hydrogen molecules\\nby DUV radiation generates plasmas in the scanner that can degrade\\nimportant optical components.45 It is challenging to obtain the\\nsource spectrum in this wavelength range due to strong contribu-\\ntions from higher diffraction orders of the very strong emission\\nfeature centered around 13.5 nm.\\nWe present an intensity-calibrated spectrum of a droplet-based\\ntin plasma driven by 1-μm laser light in the wavelength range\\nbetween 5.5 and 265.5 nm. A custom-built transmission grating\\nspectrometer (TGS) is used to record the spectrum using a 1000 lines\\nper mm grating. Higher diffraction orders, which would otherwise\\nrender impossible the detection of longer wavelengths, are elimi-\\nnated by using Zr, Si, Al, LiF, MgF2, and UV fused silica (UVFS)\\nfilters. An additional novel filter using four SiC mirrors is used to\\nrecord the 40–100 nm region, which would, given the dominant con-\\ntribution from the higher diffraction orders of the EUV band if unfil-\\ntered, otherwise remain inaccessible. Careful calibration of these fil-\\nters and the transmission grating combined with the response of the\\ncamera enables the absolute calibration of the full operating band\\nand obtaining a spectrum free of any higher diffraction orders.')"
      ]
     },
     "execution_count": 58,
     "metadata": {},
     "output_type": "execute_result"
    }
   ],
   "source": [
    "sections[0]"
   ]
  },
  {
   "cell_type": "code",
   "execution_count": null,
   "id": "ce09c9ff",
   "metadata": {},
   "outputs": [],
   "source": []
  }
 ],
 "metadata": {
  "kernelspec": {
   "display_name": "Python (kg-env)",
   "language": "python",
   "name": "kg-env"
  },
  "language_info": {
   "codemirror_mode": {
    "name": "ipython",
    "version": 3
   },
   "file_extension": ".py",
   "mimetype": "text/x-python",
   "name": "python",
   "nbconvert_exporter": "python",
   "pygments_lexer": "ipython3",
   "version": "3.10.18"
  }
 },
 "nbformat": 4,
 "nbformat_minor": 5
}
