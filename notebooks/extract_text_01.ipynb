{
 "cells": [
  {
   "cell_type": "code",
   "execution_count": 5,
   "id": "3640c2b1",
   "metadata": {},
   "outputs": [],
   "source": [
    "# ======================================\n",
    "# PDF Scientific Paper Text Extractor\n",
    "# (ready for OpenAI subject-relation-object data extraction)\n",
    "# ======================================\n",
    "import os\n",
    "import re\n",
    "import fitz  # PyMuPDF"
   ]
  },
  {
   "cell_type": "code",
   "execution_count": 6,
   "id": "b595db7f",
   "metadata": {},
   "outputs": [],
   "source": [
    "# --- Config & File Paths ---\n",
    "PDF_FILENAME = \"2021Bouza.pdf\"            # Change to your PDF name\n",
    "RAW_DIR = \"data/raw\"\n",
    "PROCESSED_DIR = \"data/processed\"\n",
    "BASENAME = os.path.splitext(PDF_FILENAME)[0]\n",
    "PYMUPDF_TXT_PATH = os.path.join(PROCESSED_DIR, f\"{BASENAME}_pymupdf.txt\")\n",
    "CLEANED_OUTPUT_PATH = os.path.join(PROCESSED_DIR, f\"{BASENAME}_cleaned_for_llm.txt\")\n",
    "\n",
    "\n",
    "# --- Directory Helpers ---\n",
    "def ensure_dir_exists(folder):\n",
    "    \"\"\"Create folder if it doesn't exist.\"\"\"\n",
    "    if not os.path.exists(folder):\n",
    "        os.makedirs(folder)\n",
    "\n",
    "ensure_dir_exists(PROCESSED_DIR)\n"
   ]
  },
  {
   "cell_type": "code",
   "execution_count": 7,
   "id": "e001eaf5",
   "metadata": {},
   "outputs": [],
   "source": [
    "# --- PDF Extraction with PyMuPDF ---\n",
    "def extract_text_with_pymupdf(pdf_path, output_txt_path):\n",
    "    \"\"\"\n",
    "    Extracts all text from a PDF using PyMuPDF, one page at a time.\n",
    "    Each page is separated for easier debugging and later parsing.\n",
    "    \"\"\"\n",
    "    doc = fitz.open(pdf_path)\n",
    "    with open(output_txt_path, \"w\", encoding=\"utf-8\") as out:\n",
    "        for i, page in enumerate(doc, start=1):\n",
    "            out.write(f\"\\n\\n--- Page {i} ---\\n\\n\")\n",
    "            out.write(page.get_text())\n",
    "    print(f\"[PyMuPDF] Extracted text written to {output_txt_path}\")\n",
    "\n",
    "pdf_path = os.path.join(RAW_DIR, PDF_FILENAME)\n",
    "if not os.path.isfile(PYMUPDF_TXT_PATH):\n",
    "    extract_text_with_pymupdf(pdf_path, PYMUPDF_TXT_PATH)"
   ]
  },
  {
   "cell_type": "code",
   "execution_count": 8,
   "id": "11b66a6a",
   "metadata": {},
   "outputs": [],
   "source": [
    "# --- Cleaning function ---\n",
    "def clean_pymupdf_text(raw_text):\n",
    "    \"\"\"\n",
    "    Cleans up PyMuPDF-extracted text from scientific PDFs:\n",
    "    - Removes repeated headers/footers, page numbers, timestamps\n",
    "    - Merges lines into paragraphs\n",
    "    - Removes common journal artifacts\n",
    "    \"\"\"\n",
    "    patterns_to_remove = [\n",
    "        r'AIP Advances', r'ARTICLE', r'scitation\\.org/journal/adv',\n",
    "        r'©\\s?20\\d{2}', r'\\d{2} July 20\\d{2} \\d{2}:\\d{2}:\\d{2}', r'Page \\d+', r'--- Page \\d+ ---',\n",
    "        r'Articles You May Be Interested In.*?(?=\\n)',  # lines starting with this\n",
    "        r'https://doi\\.org/\\S+', r'All article content,.*?license',\n",
    "        r'\\d{1,2},? ?\\d{4}',  # random date lines\n",
    "    ]\n",
    "    for pat in patterns_to_remove:\n",
    "        raw_text = re.sub(pat, '', raw_text, flags=re.IGNORECASE | re.MULTILINE)\n",
    "\n",
    "    # Remove excessive blank lines (keep 2 max)\n",
    "    raw_text = re.sub(r'\\n\\s*\\n\\s*\\n+', '\\n\\n', raw_text)\n",
    "\n",
    "    # Remove leading/trailing whitespace from lines\n",
    "    lines = [line.strip() for line in raw_text.split('\\n')]\n",
    "    raw_text = '\\n'.join(lines)\n",
    "\n",
    "    # Merge broken lines into paragraphs, but keep headings/sections\n",
    "    def merge_lines(text):\n",
    "        merged = []\n",
    "        lines = text.split('\\n')\n",
    "        buffer = ''\n",
    "        for line in lines:\n",
    "            # Headings or section starts: flush buffer, keep as is\n",
    "            if (not line.strip()) or re.match(r'^[A-Z][A-Z \\-\\d\\.]{4,}$', line) or re.match(r'^(I{1,4}|V?I{0,3}|X{0,1})\\. ', line):\n",
    "                if buffer:\n",
    "                    merged.append(buffer.strip())\n",
    "                    buffer = ''\n",
    "                if line.strip():\n",
    "                    merged.append(line.strip())\n",
    "            else:\n",
    "                if buffer and not buffer.endswith((' ', '-', '–', '—')):\n",
    "                    buffer += ' '\n",
    "                buffer += line.strip()\n",
    "        if buffer:\n",
    "            merged.append(buffer.strip())\n",
    "        return '\\n\\n'.join(merged)\n",
    "\n",
    "    cleaned_text = merge_lines(raw_text)\n",
    "    cleaned_text = re.sub(r'\\n{3,}', '\\n\\n', cleaned_text)\n",
    "    cleaned_text = cleaned_text.strip()\n",
    "    return cleaned_text\n",
    "\n",
    "# --- Read and clean the PyMuPDF text ---\n",
    "with open(PYMUPDF_TXT_PATH, \"r\", encoding=\"utf-8\") as f:\n",
    "    raw_text = f.read()\n",
    "cleaned_text = clean_pymupdf_text(raw_text)"
   ]
  },
  {
   "cell_type": "code",
   "execution_count": 9,
   "id": "4add0707",
   "metadata": {},
   "outputs": [],
   "source": [
    "# --- Extract metadata and sections from cleaned text ---\n",
    "def extract_metadata_from_cleaned_text(cleaned_text):\n",
    "    \"\"\"\n",
    "    Extracts title, authors, abstract, and sections from cleaned text.\n",
    "    \"\"\"\n",
    "    # Grab first non-empty line as title\n",
    "    lines = [line.strip() for line in cleaned_text.splitlines() if line.strip()]\n",
    "    title = lines[0] if lines else \"\"\n",
    "    # Grab next line(s) as authors if contains ';' or ',' (naive, works for most scientific papers)\n",
    "    author_line = next((line for line in lines[1:6] if ';' in line or ',' in line), \"\")\n",
    "    authors = author_line\n",
    "\n",
    "    # Abstract: text after 'ABSTRACT' until the first section heading\n",
    "    abstract_match = re.search(r'ABSTRACT\\s*(.*?)\\n(?:[IVX]+\\. [A-Z \\-]+)', cleaned_text, re.DOTALL)\n",
    "    abstract = abstract_match.group(1).strip() if abstract_match else \"\"\n",
    "\n",
    "    # Sections: heading + block until next heading (I., II., etc.)\n",
    "    sections = re.findall(r'\\n([IVX]+\\. [A-Z \\-]+)\\n(.*?)(?=\\n[IVX]+\\. [A-Z \\-]+\\n|$)', cleaned_text, re.DOTALL)\n",
    "\n",
    "    return title, authors, abstract, sections\n",
    "\n",
    "title, authors, abstract, sections = extract_metadata_from_cleaned_text(cleaned_text)\n"
   ]
  },
  {
   "cell_type": "code",
   "execution_count": 10,
   "id": "e68fe83f",
   "metadata": {},
   "outputs": [
    {
     "name": "stdout",
     "output_type": "stream",
     "text": [
      "============================================================\n",
      "Title: ---  ---\n",
      "Authors:  View Online  Export Citation RESEARCH  |  DECEMBER The spectrum of a 1-μm-wavelength-driven tin microdroplet laser-produced plasma source in the 5.5–265.5 nm wavelength range Z. Bouza ; J. Byers ; J. Scheers ; R. Schupp ; Y. Mostafa; L. Behnke; Z. Mazzotta ; J. Sheil ; W. Ubachs ; R. Hoekstra ; M. Bayraktar ; O. O. Versolato  03 (2021)\n",
      "Abstract (truncated): We present a calibrated spectrum in the 5.5–265.5 nm range from a microdroplet-tin Nd:YAG-laser-produced plasma under conditions relevant for the production of extreme ultraviolet (EUV) light at 13.5 nm for nanolithography. The plasma emission spectrum obtained using a custom-built transmission grating spectrometer results from a careful calibration of a series of filters enabling measurements fre...\n",
      "\n",
      "Sections (first 2 shown):\n",
      "\n",
      "I. INTRODUCTION\n",
      "Laser-produced plasma (LPP) generated from liquid tin (Sn) microdroplets provides extreme ultraviolet (EUV) light for mod-ern nanolithography,1–7 enabling the continued reduction of feature sizes on affordable integrated circuits (ICs). Such laser-produced plasmas of tin are characterized by a strong emission peak near 13.5 nm, originating from transitions between complex excited states in multipl...\n",
      "\n",
      "II. EXPERIMENTAL SETUP\n",
      "In our experiments, molten tin microdroplets of 46 μm dia-meter are first irradiated by a relatively low intensity (∼109 W/cm2), 1-μm-wavelength pre-pulse (PP) from an Nd:YAG laser.46 The microdroplets are dispensed from a droplet generator inside a vacuum vessel with a background pressure of ∼10−6 mbar. The beam profile of the PP laser is Gaussian with a spatial full width at half maximum (FWHM) ...\n",
      "============================================================\n"
     ]
    }
   ],
   "source": [
    "# --- Display Results ---\n",
    "print(\"=\"*60)\n",
    "print(\"Title:\", title)\n",
    "print(\"Authors:\", authors)\n",
    "print(\"Abstract (truncated):\", (abstract[:400] + '...') if len(abstract) > 400 else abstract)\n",
    "print(\"\\nSections (first 2 shown):\")\n",
    "for heading, content in sections[:2]:\n",
    "    print(f\"\\n{heading.strip()}\\n{content.strip()[:400]}{'...' if len(content.strip()) > 400 else ''}\")\n",
    "print(\"=\"*60)"
   ]
  },
  {
   "cell_type": "code",
   "execution_count": 11,
   "id": "a08f199d",
   "metadata": {},
   "outputs": [
    {
     "name": "stdout",
     "output_type": "stream",
     "text": [
      "\n",
      "[Done] Cleaned output ready for OpenAI input at: data/processed/2021Bouza_cleaned_for_llm.txt\n"
     ]
    }
   ],
   "source": [
    "# --- Save structured, cleaned output ---\n",
    "with open(CLEANED_OUTPUT_PATH, \"w\", encoding=\"utf-8\") as out:\n",
    "    out.write(f\"Title: {title}\\n\")\n",
    "    out.write(f\"Authors: {authors}\\n\")\n",
    "    out.write(f\"Abstract: {abstract}\\n\\n\")\n",
    "    for heading, content in sections:\n",
    "        out.write(f\"{heading.strip()}\\n{content.strip()}\\n\\n\")\n",
    "print(f\"\\n[Done] Cleaned output ready for OpenAI input at: {CLEANED_OUTPUT_PATH}\")"
   ]
  },
  {
   "cell_type": "code",
   "execution_count": null,
   "id": "b68f7e1a",
   "metadata": {},
   "outputs": [],
   "source": []
  },
  {
   "cell_type": "code",
   "execution_count": null,
   "id": "b6ebf231",
   "metadata": {},
   "outputs": [],
   "source": []
  }
 ],
 "metadata": {
  "kernelspec": {
   "display_name": "Python (kg-env)",
   "language": "python",
   "name": "kg-env"
  },
  "language_info": {
   "codemirror_mode": {
    "name": "ipython",
    "version": 3
   },
   "file_extension": ".py",
   "mimetype": "text/x-python",
   "name": "python",
   "nbconvert_exporter": "python",
   "pygments_lexer": "ipython3",
   "version": "3.10.18"
  }
 },
 "nbformat": 4,
 "nbformat_minor": 5
}
